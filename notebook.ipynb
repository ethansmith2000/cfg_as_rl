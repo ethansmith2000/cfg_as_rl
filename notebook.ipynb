{
 "cells": [
  {
   "cell_type": "code",
   "execution_count": 1,
   "metadata": {},
   "outputs": [],
   "source": [
    "import pandas as pd"
   ]
  },
  {
   "cell_type": "code",
   "execution_count": 5,
   "metadata": {},
   "outputs": [
    {
     "name": "stdout",
     "output_type": "stream",
     "text": [
      "--2024-06-16 05:14:14--  https://huggingface.co/datasets/CortexLM/midjourney-v6/resolve/main/data/train-00000-of-00001.parquet\n",
      "Resolving huggingface.co (huggingface.co)... 108.156.211.125, 108.156.211.90, 108.156.211.51, ...\n",
      "Connecting to huggingface.co (huggingface.co)|108.156.211.125|:443... connected.\n",
      "HTTP request sent, awaiting response... 302 Found\n",
      "Location: https://cdn-lfs-us-1.huggingface.co/repos/ac/97/ac974afa18fb23dd12e702d1412b67857532381117ef4b1508453efd1b3bb905/b47d979b7da3268847f8f09b1483fef18602848895ca57b3e0371d0de071bbde?response-content-disposition=inline%3B+filename*%3DUTF-8%27%27train-00000-of-00001.parquet%3B+filename%3D%22train-00000-of-00001.parquet%22%3B&Expires=1718774054&Policy=eyJTdGF0ZW1lbnQiOlt7IkNvbmRpdGlvbiI6eyJEYXRlTGVzc1RoYW4iOnsiQVdTOkVwb2NoVGltZSI6MTcxODc3NDA1NH19LCJSZXNvdXJjZSI6Imh0dHBzOi8vY2RuLWxmcy11cy0xLmh1Z2dpbmdmYWNlLmNvL3JlcG9zL2FjLzk3L2FjOTc0YWZhMThmYjIzZGQxMmU3MDJkMTQxMmI2Nzg1NzUzMjM4MTExN2VmNGIxNTA4NDUzZWZkMWIzYmI5MDUvYjQ3ZDk3OWI3ZGEzMjY4ODQ3ZjhmMDliMTQ4M2ZlZjE4NjAyODQ4ODk1Y2E1N2IzZTAzNzFkMGRlMDcxYmJkZT9yZXNwb25zZS1jb250ZW50LWRpc3Bvc2l0aW9uPSoifV19&Signature=J9LiFnQzsKtTseSmCT9RnaMD2ab3tcneRok%7EaEZyd2HspybSMVVWcStiVs9Ep7Pu5%7EVQYoJShT-UmdGLvgdGffy2V-FJcIg3plANpRXj73VMuzpTd7LlsYfo3FqfM6IJyXIimdDXpxzDZxajKuNIdJIVGll6VfuVCywHspVfUF19nRBxFo86QRO4Fbgjx-CoewqgFK0VbDeU7nNYUAFxCN30%7ExE84tCuhTnS-skpALM%7E2ezlswURJLd-35hfiJf00WMJHiSdTdV-YzXOrqL3BWQ2O1xoxU1oxmQf4RotkUfzgG2SBY2SYHQV1I6bfdXaWRlOQG1zS2miFF5eOlVozA__&Key-Pair-Id=K2FPYV99P2N66Q [following]\n",
      "--2024-06-16 05:14:14--  https://cdn-lfs-us-1.huggingface.co/repos/ac/97/ac974afa18fb23dd12e702d1412b67857532381117ef4b1508453efd1b3bb905/b47d979b7da3268847f8f09b1483fef18602848895ca57b3e0371d0de071bbde?response-content-disposition=inline%3B+filename*%3DUTF-8%27%27train-00000-of-00001.parquet%3B+filename%3D%22train-00000-of-00001.parquet%22%3B&Expires=1718774054&Policy=eyJTdGF0ZW1lbnQiOlt7IkNvbmRpdGlvbiI6eyJEYXRlTGVzc1RoYW4iOnsiQVdTOkVwb2NoVGltZSI6MTcxODc3NDA1NH19LCJSZXNvdXJjZSI6Imh0dHBzOi8vY2RuLWxmcy11cy0xLmh1Z2dpbmdmYWNlLmNvL3JlcG9zL2FjLzk3L2FjOTc0YWZhMThmYjIzZGQxMmU3MDJkMTQxMmI2Nzg1NzUzMjM4MTExN2VmNGIxNTA4NDUzZWZkMWIzYmI5MDUvYjQ3ZDk3OWI3ZGEzMjY4ODQ3ZjhmMDliMTQ4M2ZlZjE4NjAyODQ4ODk1Y2E1N2IzZTAzNzFkMGRlMDcxYmJkZT9yZXNwb25zZS1jb250ZW50LWRpc3Bvc2l0aW9uPSoifV19&Signature=J9LiFnQzsKtTseSmCT9RnaMD2ab3tcneRok%7EaEZyd2HspybSMVVWcStiVs9Ep7Pu5%7EVQYoJShT-UmdGLvgdGffy2V-FJcIg3plANpRXj73VMuzpTd7LlsYfo3FqfM6IJyXIimdDXpxzDZxajKuNIdJIVGll6VfuVCywHspVfUF19nRBxFo86QRO4Fbgjx-CoewqgFK0VbDeU7nNYUAFxCN30%7ExE84tCuhTnS-skpALM%7E2ezlswURJLd-35hfiJf00WMJHiSdTdV-YzXOrqL3BWQ2O1xoxU1oxmQf4RotkUfzgG2SBY2SYHQV1I6bfdXaWRlOQG1zS2miFF5eOlVozA__&Key-Pair-Id=K2FPYV99P2N66Q\n",
      "Resolving cdn-lfs-us-1.huggingface.co (cdn-lfs-us-1.huggingface.co)... 18.161.156.3, 18.161.156.80, 18.161.156.33, ...\n",
      "Connecting to cdn-lfs-us-1.huggingface.co (cdn-lfs-us-1.huggingface.co)|18.161.156.3|:443... connected.\n",
      "HTTP request sent, awaiting response... 200 OK\n",
      "Length: 24079393 (23M) [binary/octet-stream]\n",
      "Saving to: ‘train-00000-of-00001.parquet’\n",
      "\n",
      "train-00000-of-0000 100%[===================>]  22.96M  42.5MB/s    in 0.5s    \n",
      "\n",
      "2024-06-16 05:14:15 (42.5 MB/s) - ‘train-00000-of-00001.parquet’ saved [24079393/24079393]\n",
      "\n"
     ]
    }
   ],
   "source": [
    "!wget https://huggingface.co/datasets/CortexLM/midjourney-v6/resolve/main/data/train-00000-of-00001.parquet"
   ]
  },
  {
   "cell_type": "code",
   "execution_count": 6,
   "metadata": {},
   "outputs": [],
   "source": [
    "df = pd.read_parquet('train-00000-of-00001.parquet')"
   ]
  },
  {
   "cell_type": "code",
   "execution_count": 7,
   "metadata": {},
   "outputs": [
    {
     "data": {
      "text/html": [
       "<div>\n",
       "<style scoped>\n",
       "    .dataframe tbody tr th:only-of-type {\n",
       "        vertical-align: middle;\n",
       "    }\n",
       "\n",
       "    .dataframe tbody tr th {\n",
       "        vertical-align: top;\n",
       "    }\n",
       "\n",
       "    .dataframe thead th {\n",
       "        text-align: right;\n",
       "    }\n",
       "</style>\n",
       "<table border=\"1\" class=\"dataframe\">\n",
       "  <thead>\n",
       "    <tr style=\"text-align: right;\">\n",
       "      <th></th>\n",
       "      <th>prompt</th>\n",
       "      <th>image_url</th>\n",
       "      <th>timestamp</th>\n",
       "    </tr>\n",
       "  </thead>\n",
       "  <tbody>\n",
       "    <tr>\n",
       "      <th>0</th>\n",
       "      <td>A young child is sitting on some pita bread ne...</td>\n",
       "      <td>https://f004.backblazeb2.com/file/sota-images/...</td>\n",
       "      <td>2024-04-25 07:25:25+00:00</td>\n",
       "    </tr>\n",
       "    <tr>\n",
       "      <th>1</th>\n",
       "      <td>A baby is chewing on a lawn chair, while a dog...</td>\n",
       "      <td>https://f004.backblazeb2.com/file/sota-images/...</td>\n",
       "      <td>2024-04-25 07:24:06+00:00</td>\n",
       "    </tr>\n",
       "    <tr>\n",
       "      <th>2</th>\n",
       "      <td>That city skyline with a blow dryer a cord on it</td>\n",
       "      <td>https://f004.backblazeb2.com/file/sota-images/...</td>\n",
       "      <td>2024-04-25 07:23:29+00:00</td>\n",
       "    </tr>\n",
       "    <tr>\n",
       "      <th>3</th>\n",
       "      <td>A woman smiles as he looks upward</td>\n",
       "      <td>https://f004.backblazeb2.com/file/sota-images/...</td>\n",
       "      <td>2024-04-25 07:22:27+00:00</td>\n",
       "    </tr>\n",
       "    <tr>\n",
       "      <th>4</th>\n",
       "      <td>A woman with an umbrella</td>\n",
       "      <td>https://f004.backblazeb2.com/file/sota-images/...</td>\n",
       "      <td>2024-04-25 07:21:13+00:00</td>\n",
       "    </tr>\n",
       "    <tr>\n",
       "      <th>...</th>\n",
       "      <td>...</td>\n",
       "      <td>...</td>\n",
       "      <td>...</td>\n",
       "    </tr>\n",
       "    <tr>\n",
       "      <th>310257</th>\n",
       "      <td>A dog walking with a cat laying a video game</td>\n",
       "      <td>https://f004.backblazeb2.com/file/sota-images/...</td>\n",
       "      <td>2024-03-15 14:51:22+00:00</td>\n",
       "    </tr>\n",
       "    <tr>\n",
       "      <th>310258</th>\n",
       "      <td>Two men are enjoying the day somewhere</td>\n",
       "      <td>https://f004.backblazeb2.com/file/sota-images/...</td>\n",
       "      <td>2024-03-15 14:49:57+00:00</td>\n",
       "    </tr>\n",
       "    <tr>\n",
       "      <th>310259</th>\n",
       "      <td>A person with food is stacked with dvd's by a ...</td>\n",
       "      <td>https://f004.backblazeb2.com/file/sota-images/...</td>\n",
       "      <td>2024-03-15 14:48:41+00:00</td>\n",
       "    </tr>\n",
       "    <tr>\n",
       "      <th>310260</th>\n",
       "      <td>A man uses his computer while standing on his ...</td>\n",
       "      <td>https://f004.backblazeb2.com/file/sota-images/...</td>\n",
       "      <td>2024-03-15 14:47:13+00:00</td>\n",
       "    </tr>\n",
       "    <tr>\n",
       "      <th>310261</th>\n",
       "      <td>A bunch of microphones A couple of couches</td>\n",
       "      <td>https://f004.backblazeb2.com/file/sota-images/...</td>\n",
       "      <td>2024-03-15 14:46:21+00:00</td>\n",
       "    </tr>\n",
       "  </tbody>\n",
       "</table>\n",
       "<p>310262 rows × 3 columns</p>\n",
       "</div>"
      ],
      "text/plain": [
       "                                                   prompt  \\\n",
       "0       A young child is sitting on some pita bread ne...   \n",
       "1       A baby is chewing on a lawn chair, while a dog...   \n",
       "2        That city skyline with a blow dryer a cord on it   \n",
       "3                       A woman smiles as he looks upward   \n",
       "4                                A woman with an umbrella   \n",
       "...                                                   ...   \n",
       "310257       A dog walking with a cat laying a video game   \n",
       "310258             Two men are enjoying the day somewhere   \n",
       "310259  A person with food is stacked with dvd's by a ...   \n",
       "310260  A man uses his computer while standing on his ...   \n",
       "310261         A bunch of microphones A couple of couches   \n",
       "\n",
       "                                                image_url  \\\n",
       "0       https://f004.backblazeb2.com/file/sota-images/...   \n",
       "1       https://f004.backblazeb2.com/file/sota-images/...   \n",
       "2       https://f004.backblazeb2.com/file/sota-images/...   \n",
       "3       https://f004.backblazeb2.com/file/sota-images/...   \n",
       "4       https://f004.backblazeb2.com/file/sota-images/...   \n",
       "...                                                   ...   \n",
       "310257  https://f004.backblazeb2.com/file/sota-images/...   \n",
       "310258  https://f004.backblazeb2.com/file/sota-images/...   \n",
       "310259  https://f004.backblazeb2.com/file/sota-images/...   \n",
       "310260  https://f004.backblazeb2.com/file/sota-images/...   \n",
       "310261  https://f004.backblazeb2.com/file/sota-images/...   \n",
       "\n",
       "                       timestamp  \n",
       "0      2024-04-25 07:25:25+00:00  \n",
       "1      2024-04-25 07:24:06+00:00  \n",
       "2      2024-04-25 07:23:29+00:00  \n",
       "3      2024-04-25 07:22:27+00:00  \n",
       "4      2024-04-25 07:21:13+00:00  \n",
       "...                          ...  \n",
       "310257 2024-03-15 14:51:22+00:00  \n",
       "310258 2024-03-15 14:49:57+00:00  \n",
       "310259 2024-03-15 14:48:41+00:00  \n",
       "310260 2024-03-15 14:47:13+00:00  \n",
       "310261 2024-03-15 14:46:21+00:00  \n",
       "\n",
       "[310262 rows x 3 columns]"
      ]
     },
     "execution_count": 7,
     "metadata": {},
     "output_type": "execute_result"
    }
   ],
   "source": [
    "df"
   ]
  },
  {
   "cell_type": "code",
   "execution_count": null,
   "metadata": {},
   "outputs": [],
   "source": []
  }
 ],
 "metadata": {
  "kernelspec": {
   "display_name": "base",
   "language": "python",
   "name": "python3"
  },
  "language_info": {
   "codemirror_mode": {
    "name": "ipython",
    "version": 3
   },
   "file_extension": ".py",
   "mimetype": "text/x-python",
   "name": "python",
   "nbconvert_exporter": "python",
   "pygments_lexer": "ipython3",
   "version": "3.11.5"
  }
 },
 "nbformat": 4,
 "nbformat_minor": 2
}
